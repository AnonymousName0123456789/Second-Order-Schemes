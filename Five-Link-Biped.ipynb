{
 "cells": [
  {
   "cell_type": "code",
   "execution_count": null,
   "id": "73e1c3e9",
   "metadata": {},
   "outputs": [],
   "source": [
    "import numpy as np\n",
    "import matplotlib.pyplot as plt"
   ]
  },
  {
   "cell_type": "code",
   "execution_count": null,
   "id": "4b7803b3",
   "metadata": {},
   "outputs": [],
   "source": [
    "from sympy import (symbols, simplify)\n",
    "from sympy.physics.mechanics import dynamicsymbols, init_vprinting\n",
    "from sympy.physics.mechanics import Lagrangian, ReferenceFrame, Point, Particle,inertia, RigidBody, angular_momentum"
   ]
  },
  {
   "cell_type": "code",
   "execution_count": null,
   "id": "328fb119",
   "metadata": {},
   "outputs": [],
   "source": [
    "from optibot.symbolic import lagrange, diff_to_symb, SimpLagrangesMethod\n",
    "from optibot.numpy import unpack"
   ]
  },
  {
   "cell_type": "code",
   "execution_count": null,
   "id": "3b5276f9",
   "metadata": {},
   "outputs": [],
   "source": [
    "init_vprinting()"
   ]
  },
  {
   "cell_type": "markdown",
   "id": "252e50e0",
   "metadata": {},
   "source": [
    "### Symbolic Problem Modelling"
   ]
  },
  {
   "cell_type": "code",
   "execution_count": null,
   "id": "85d0d122",
   "metadata": {},
   "outputs": [],
   "source": [
    "m0, m1, m2, m3, m4, l0, l1, l2, l3, l4, t, g = symbols('m_0:5 l_0:5 t g')\n",
    "I0, I1, I2, I3, I4, d0, d1, d2, d3, d4 = symbols('I_0:5 d_0:5')\n",
    "q0, q1, q2, q3, q4 = dynamicsymbols('q_0:5')\n",
    "m0, m1, m2, m3, m4, l0, l1, l2, l3, l4, t, g, I0, I1, I2, I3, I4, d0, d1, d2, d3, d4, q0, q1, q2, q3, q4"
   ]
  },
  {
   "cell_type": "code",
   "execution_count": null,
   "id": "08cbe2ae",
   "metadata": {},
   "outputs": [],
   "source": [
    "N_in = ReferenceFrame('N')\n",
    "P0 = Point('P0')\n",
    "P0.set_vel(N_in, 0)\n",
    "\n",
    "N0 = N_in.orientnew('N0', 'Axis', [q0, N_in.z])\n",
    "P1 = P0.locatenew('P1', l0 * N0.y)\n",
    "P1.set_vel(N_in, P1.pos_from(P0).dt(N_in))\n",
    "CM0 = P0.locatenew('CM0', (l0-d0) * N0.y)\n",
    "CM0.set_vel(N_in, CM0.pos_from(P0).dt(N_in))\n",
    "I_0 = inertia(N0, 0, 0, I0)\n",
    "body0 = RigidBody('Stance_Tibia', CM0, N0, m0, (I_0,CM0))\n",
    "body0.potential_energy = m0 * g * CM0.pos_from(P0).dot(N_in.y)\n",
    "\n",
    "\n",
    "N1 = N_in.orientnew('N1', 'Axis', [q1, N_in.z])\n",
    "P2 = P1.locatenew('P2', l1 * N1.y)\n",
    "P2.set_vel(N_in, P2.pos_from(P0).dt(N_in))\n",
    "CM1 = P1.locatenew('CM1', (l1-d1) * N1.y)\n",
    "CM1.set_vel(N_in, CM1.pos_from(P0).dt(N_in))\n",
    "I_1 = inertia(N1, 0, 0, I1)\n",
    "body1 = RigidBody('Stance_Femur', CM1, N1, m1, (I_1,CM1))\n",
    "body1.potential_energy = m1 * g * CM1.pos_from(P0).dot(N_in.y)\n",
    "\n",
    "\n",
    "N2 = N_in.orientnew('N2', 'Axis', [q2, N_in.z])\n",
    "P3 = P2.locatenew('P3', l2 * N2.y)\n",
    "P3.set_vel(N_in, P3.pos_from(P0).dt(N_in))\n",
    "CM2 = P2.locatenew('CM2', d2 * N2.y)\n",
    "CM2.set_vel(N_in, CM2.pos_from(P0).dt(N_in))\n",
    "I_2 = inertia(N2, 0, 0, I2)\n",
    "body2 = RigidBody('Torso', CM2, N2, m2, (I_2,CM2))\n",
    "body2.potential_energy = m2 * g * CM2.pos_from(P0).dot(N_in.y)\n",
    "\n",
    "\n",
    "N3 = N_in.orientnew('N3', 'Axis', [q3, N_in.z])\n",
    "P4 = P2.locatenew('P4', -l3 * N3.y)\n",
    "P4.set_vel(N_in, P4.pos_from(P0).dt(N_in))\n",
    "CM3 = P2.locatenew('CM3', -d3 * N3.y)\n",
    "CM3.set_vel(N_in, CM3.pos_from(P0).dt(N_in))\n",
    "I_3 = inertia(N3, 0, 0, I3)\n",
    "body3 = RigidBody('Swing_Femur', CM3, N3, m3, (I_3,CM3))\n",
    "body3.potential_energy = m3 * g * CM3.pos_from(P0).dot(N_in.y)\n",
    "\n",
    "\n",
    "N4 = N_in.orientnew('N4', 'Axis', [q4, N_in.z])\n",
    "P5 = P4.locatenew('P5', -l4 * N4.y)\n",
    "P5.set_vel(N_in, P5.pos_from(P0).dt(N_in))\n",
    "CM4 = P4.locatenew('CM4', -d4 * N4.y)\n",
    "CM4.set_vel(N_in, CM4.pos_from(P0).dt(N_in))\n",
    "I_4 = inertia(N4, 0, 0, I4)\n",
    "body4 = RigidBody('Swing_Tibia', CM4, N4, m4, (I_4,CM4))\n",
    "body4.potential_energy = m4 * g * CM4.pos_from(P0).dot(N_in.y)"
   ]
  },
  {
   "cell_type": "code",
   "execution_count": null,
   "id": "e84dcab5",
   "metadata": {},
   "outputs": [],
   "source": [
    "Lag_simp = Lagrangian(N_in, body0, body1, body2, body3, body4)\n",
    "Lag_simp"
   ]
  },
  {
   "cell_type": "code",
   "execution_count": null,
   "id": "d50d221c",
   "metadata": {},
   "outputs": [],
   "source": [
    "from optibot.symbolic import ImplicitLagrangesMethod"
   ]
  },
  {
   "cell_type": "code",
   "execution_count": null,
   "id": "8917747b",
   "metadata": {},
   "outputs": [],
   "source": [
    "u0, u1, u2, u3, u4 = symbols('u_:5')\n",
    "FL = [\n",
    "    (N0, (u0-u1) * N_in.z),\n",
    "    (N1, (u1-u2) * N_in.z),\n",
    "    (N2, (u2-u3) * N_in.z),\n",
    "    (N3, (u3-u4) * N_in.z),\n",
    "    (N4, u4 * N_in.z)\n",
    "]\n",
    "LM_small = ImplicitLagrangesMethod(Lag_simp, [q0, q1, q2, q3, q4], forcelist=FL, frame=N_in)"
   ]
  },
  {
   "cell_type": "code",
   "execution_count": null,
   "id": "84753b99",
   "metadata": {},
   "outputs": [],
   "source": [
    "LM_small.form_lagranges_equations()"
   ]
  },
  {
   "cell_type": "code",
   "execution_count": null,
   "id": "f096bea2",
   "metadata": {
    "scrolled": true
   },
   "outputs": [],
   "source": [
    "impl_x = LM_small.implicit_dynamics_x"
   ]
  },
  {
   "cell_type": "code",
   "execution_count": null,
   "id": "54db3ade",
   "metadata": {},
   "outputs": [],
   "source": [
    "impl_q = LM_small.implicit_dynamics_q"
   ]
  },
  {
   "cell_type": "code",
   "execution_count": null,
   "id": "a4c78b47",
   "metadata": {},
   "outputs": [],
   "source": [
    "from optibot.casadi import implicit_dynamic_q_to_casadi_function, implicit_dynamic_x_to_casadi_function\n",
    "from optibot.symbolic import find_arguments"
   ]
  },
  {
   "cell_type": "code",
   "execution_count": null,
   "id": "f0a58af1",
   "metadata": {},
   "outputs": [],
   "source": [
    "find_arguments(impl_q, list(LM_small._q), separate_as=True, separate_lambdas=True, verbose=True)"
   ]
  },
  {
   "cell_type": "code",
   "execution_count": null,
   "id": "61ec827f",
   "metadata": {},
   "outputs": [],
   "source": [
    "imp_dyn_x_f_cas = implicit_dynamic_x_to_casadi_function(impl_x, list(dynamicsymbols('x_0:10')), verbose=True)"
   ]
  },
  {
   "cell_type": "code",
   "execution_count": null,
   "id": "16d1a7b6",
   "metadata": {},
   "outputs": [],
   "source": [
    "imp_dyn_q_f_cas = implicit_dynamic_q_to_casadi_function(impl_q, list(LM_small.q), verbose=True)"
   ]
  },
  {
   "cell_type": "markdown",
   "id": "b87de7b5",
   "metadata": {},
   "source": [
    "Lag_num = Lag_simp.subs([\n",
    "    [m0,3.2],\n",
    "    [m1,6.8],\n",
    "    [m2,20],\n",
    "    [m3,6.8],\n",
    "    [m4,3.2],\n",
    "    [l0,0.4],\n",
    "    [l1,0.4],\n",
    "    [l2,0.625],\n",
    "    [l3,0.4],\n",
    "    [l4,0.4],\n",
    "    [I0,0.93],\n",
    "    [I1,1.08],\n",
    "    [I2,2.22],\n",
    "    [I3,1.08],\n",
    "    [I4,0.93],\n",
    "    [d0,1.128],\n",
    "    [d1,0.163],\n",
    "    [d2,0.2],\n",
    "    [d3,0.163],\n",
    "    [d4,0.128],\n",
    "    [g, 9.81]\n",
    "])\n",
    "Lag_num"
   ]
  },
  {
   "cell_type": "code",
   "execution_count": null,
   "id": "fd6cc8d5",
   "metadata": {},
   "outputs": [],
   "source": [
    "imp_dyn_x_f_cas"
   ]
  },
  {
   "cell_type": "code",
   "execution_count": null,
   "id": "023cc624",
   "metadata": {},
   "outputs": [],
   "source": [
    "from optibot.symbolic import diff_to_symb_expr"
   ]
  },
  {
   "cell_type": "code",
   "execution_count": null,
   "id": "9225792b",
   "metadata": {
    "scrolled": true
   },
   "outputs": [],
   "source": [
    "feet_x = P5.pos_from(P0).dot(N_in.x)\n",
    "feet_x = diff_to_symb_expr(feet_x)\n",
    "feet_x"
   ]
  },
  {
   "cell_type": "code",
   "execution_count": null,
   "id": "563aa93a",
   "metadata": {},
   "outputs": [],
   "source": [
    "feet_y = P5.pos_from(P0).dot(N_in.y)\n",
    "feet_y = diff_to_symb_expr(feet_y)\n",
    "feet_y"
   ]
  },
  {
   "cell_type": "code",
   "execution_count": null,
   "id": "93ff653f",
   "metadata": {},
   "outputs": [],
   "source": [
    "feet_y_vel = P5.vel(N_in).dot(N_in.y)   #pos_from(P0).dot(N_in.y)\n",
    "feet_y_vel = diff_to_symb_expr(feet_y_vel)\n",
    "feet_y_vel"
   ]
  },
  {
   "cell_type": "code",
   "execution_count": null,
   "id": "ea0121bf",
   "metadata": {},
   "outputs": [],
   "source": [
    "cm_pos = m0*CM0.pos_from(P0)\n",
    "cm_pos += m1*CM1.pos_from(P0)\n",
    "cm_pos += m2*CM2.pos_from(P0)\n",
    "cm_pos += m3*CM3.pos_from(P0)\n",
    "cm_pos += m4*CM4.pos_from(P0)\n",
    "cm_pos = cm_pos/(m0+m1+m2+m3+m4)\n",
    "\n",
    "sys_CM = P0.locatenew('Sys_CM', cm_pos)\n",
    "sys_CM_x = simplify(sys_CM.pos_from(P0).dot(N_in.x))\n",
    "sys_CM_y = simplify(sys_CM.pos_from(P0).dot(N_in.y))"
   ]
  },
  {
   "cell_type": "code",
   "execution_count": null,
   "id": "733e71b6",
   "metadata": {},
   "outputs": [],
   "source": [
    "from sympy import lambdify"
   ]
  },
  {
   "cell_type": "code",
   "execution_count": null,
   "id": "7fc554f2",
   "metadata": {},
   "outputs": [],
   "source": []
  },
  {
   "cell_type": "code",
   "execution_count": null,
   "id": "f9f86851",
   "metadata": {},
   "outputs": [],
   "source": []
  },
  {
   "cell_type": "code",
   "execution_count": null,
   "id": "abec24a1",
   "metadata": {},
   "outputs": [],
   "source": [
    "import casadi as cas\n",
    "from optibot.casadi import sympy2casadi"
   ]
  },
  {
   "cell_type": "code",
   "execution_count": null,
   "id": "7276e19d",
   "metadata": {},
   "outputs": [],
   "source": [
    "sym_x = dynamicsymbols('q_0:5')\n",
    "sym_x = sym_x + [ii.diff() for ii in sym_x]\n",
    "sym_x = [diff_to_symb(ii) for ii in sym_x]\n",
    "sym_params = list(symbols('I_0:5 d_0:5 g l_0:2 l_3 m_0:5'))\n",
    "sym_add_params = [symbols('l_4'),]\n",
    "sym_vars = sym_x + sym_params + sym_add_params\n",
    "\n",
    "print(len(sym_vars), sym_vars)"
   ]
  },
  {
   "cell_type": "code",
   "execution_count": null,
   "id": "b44cde69",
   "metadata": {},
   "outputs": [],
   "source": [
    "cas_x_args = cas.MX.sym(\"x\", len(sym_x))\n",
    "cas_params = cas.MX.sym(\"p\", len(sym_params))\n",
    "cas_add_params = cas.MX.sym(\"p_add\", len(sym_add_params))\n",
    "cas_all_vars = [cas_x_args[ii] for ii in range(len(sym_x))]\n",
    "cas_all_vars += [cas_params[ii] for ii in range(len(sym_params))]\n",
    "cas_all_vars += [cas_add_params[ii] for ii in range(len(sym_add_params))]\n",
    "print(len(cas_all_vars), cas_all_vars)"
   ]
  },
  {
   "cell_type": "code",
   "execution_count": null,
   "id": "75628a88",
   "metadata": {},
   "outputs": [],
   "source": [
    "_cas_expr_temp_x = sympy2casadi(feet_x, sym_vars, cas_all_vars)\n",
    "feet_x_cas = cas.Function(\n",
    "        \"Feet_x\",\n",
    "        [cas_x_args, cas_params, cas_add_params],\n",
    "        [_cas_expr_temp_x,],\n",
    "        [\"x\", \"params\", \"additional_params\"],\n",
    "        [\"feet_x_position\"],\n",
    "    )"
   ]
  },
  {
   "cell_type": "code",
   "execution_count": null,
   "id": "9ab41e77",
   "metadata": {},
   "outputs": [],
   "source": [
    "feet_x_cas"
   ]
  },
  {
   "cell_type": "code",
   "execution_count": null,
   "id": "23bfe461",
   "metadata": {},
   "outputs": [],
   "source": [
    "_cas_expr_temp_y = sympy2casadi(feet_y, sym_vars, cas_all_vars)\n",
    "feet_y_cas = cas.Function(\n",
    "        \"Feet_y\",\n",
    "        [cas_x_args, cas_params, cas_add_params],\n",
    "        [_cas_expr_temp_y,],\n",
    "        [\"x\", \"params\", \"additional_params\"],\n",
    "        [\"feet_y_position\"],\n",
    "    )"
   ]
  },
  {
   "cell_type": "code",
   "execution_count": null,
   "id": "f524694d",
   "metadata": {},
   "outputs": [],
   "source": [
    "feet_y_cas"
   ]
  },
  {
   "cell_type": "code",
   "execution_count": null,
   "id": "854e4b8c",
   "metadata": {},
   "outputs": [],
   "source": [
    "_cas_expr_temp_y_vel = sympy2casadi(feet_y_vel, sym_vars, cas_all_vars)\n",
    "feet_y_vel_cas = cas.Function(\n",
    "        \"Feet_y_vel\",\n",
    "        [cas_x_args, cas_params, cas_add_params],\n",
    "        [_cas_expr_temp_y_vel,],\n",
    "        [\"x\", \"params\", \"additional_params\"],\n",
    "        [\"feet_y_speed\"],\n",
    "    )"
   ]
  },
  {
   "cell_type": "code",
   "execution_count": null,
   "id": "a9eec6b9",
   "metadata": {},
   "outputs": [],
   "source": [
    "feet_y_vel_cas"
   ]
  },
  {
   "cell_type": "code",
   "execution_count": null,
   "id": "f49ffa72",
   "metadata": {},
   "outputs": [],
   "source": [
    "def simetric_cond_casadi(n = 5):\n",
    "    x1 = cas.MX.sym('x_1', 2*n)\n",
    "    x2 = cas.MX.sym('x_2', 2*n)\n",
    "    cond = [x1[ii] - x2[n-1-ii] for ii in range(n)]\n",
    "    cas_funcs = cas.horzcat(*cond)\n",
    "    return cas.Function(\n",
    "        \"Sim_cond\",\n",
    "        [x1, x2],\n",
    "        [cas_funcs,],\n",
    "        [\"x_1\", \"x2\"],\n",
    "        [\"residue\"],\n",
    "    )"
   ]
  },
  {
   "cell_type": "code",
   "execution_count": null,
   "id": "8d3a5e0e",
   "metadata": {},
   "outputs": [],
   "source": [
    "simetric_5_links = simetric_cond_casadi(5)\n",
    "simetric_5_links"
   ]
  },
  {
   "cell_type": "code",
   "execution_count": null,
   "id": "468ec7a7",
   "metadata": {},
   "outputs": [],
   "source": [
    "bodies = [body0, body1, body2, body3, body4]\n",
    "points_right = [P0, P1, P2, P2, P4]\n",
    "points_left = [P5, P4, P2, P2, P1]\n",
    "subs_key = list(zip(dynamicsymbols('q_0:5'),dynamicsymbols('q_p_0:5')))\n",
    "\n",
    "impact_eqs = []\n",
    "for ii in range(5):\n",
    "    print('calculating eq', ii)\n",
    "    print('\\tleft side')\n",
    "    left_side = angular_momentum(points_left[ii], N_in, *bodies[:5-ii]).dot(N_in.z)\n",
    "    left_side = simplify(left_side)\n",
    "    print('\\tright side')\n",
    "    right_side = angular_momentum(points_right[ii], N_in, *bodies[ii:]).dot(N_in.z)\n",
    "    right_side = simplify(right_side).subs(subs_key)\n",
    "    impact_eqs.append(left_side-right_side)\n",
    "#impact_eqs"
   ]
  },
  {
   "cell_type": "code",
   "execution_count": null,
   "id": "8106bf4e",
   "metadata": {},
   "outputs": [],
   "source": [
    "def impact_cond_casadi(eqs, x1_sym, x2_sym, sym_params, sym_add_params):\n",
    "    x1_sym = [diff_to_symb(ii) for ii in x1_sym]\n",
    "    x2_sym = [diff_to_symb(ii) for ii in x2_sym]\n",
    "    eqs = [diff_to_symb_expr(ii) for ii in eqs]\n",
    "\n",
    "    all_vars = x1_sym + x2_sym + sym_params + sym_add_params\n",
    "    n = len(x1_sym)\n",
    "    cas_x1 = cas.MX.sym('x_1', n)\n",
    "    cas_x2 = cas.MX.sym('x_2', n)\n",
    "    cas_params = cas.MX.sym(\"p\", len(sym_params))\n",
    "    cas_add_params = cas.MX.sym(\"p_add\", len(sym_add_params))\n",
    "    cas_all_vars = [cas_x1[ii] for ii in range(n)]\n",
    "    cas_all_vars += [cas_x2[ii] for ii in range(n)]\n",
    "    cas_all_vars += [cas_params[ii] for ii in range(len(sym_params))]\n",
    "    cas_all_vars += [cas_add_params[ii] for ii in range(len(sym_add_params))]\n",
    "    \n",
    "    cas_funcs = []\n",
    "    for function in eqs:\n",
    "        cas_funcs.append(sympy2casadi(function, all_vars, cas_all_vars))\n",
    "    cas_funcs = cas.horzcat(*cas_funcs)\n",
    "    return cas.Function(\n",
    "        \"Sim_cond\",\n",
    "        [cas_x1, cas_x2, cas_params, cas_add_params],\n",
    "        [cas_funcs,],\n",
    "        [\"x_1\", \"x2\", 'params', 'additional_params'],\n",
    "        [\"residue\"],\n",
    "    )"
   ]
  },
  {
   "cell_type": "code",
   "execution_count": null,
   "id": "705d73df",
   "metadata": {},
   "outputs": [],
   "source": [
    "sym_x = dynamicsymbols('q_0:5')\n",
    "sym_x = sym_x + [ii.diff() for ii in sym_x]\n",
    "subs_key = list(zip(dynamicsymbols('q_0:5'),dynamicsymbols('q_p_0:5')))\n",
    "sym_x_2 = [ii.subs(subs_key) for ii in sym_x]\n",
    "impact_cond_cas_f = impact_cond_casadi(impact_eqs, sym_x,  sym_x_2, sym_params, sym_add_params)"
   ]
  },
  {
   "cell_type": "code",
   "execution_count": null,
   "id": "d1fb1284",
   "metadata": {},
   "outputs": [],
   "source": [
    "impact_cond_cas_f"
   ]
  },
  {
   "cell_type": "code",
   "execution_count": null,
   "id": "086d1831",
   "metadata": {},
   "outputs": [],
   "source": [
    "sys_CM_x"
   ]
  },
  {
   "cell_type": "code",
   "execution_count": null,
   "id": "186b7c2c",
   "metadata": {},
   "outputs": [],
   "source": [
    "sym_x, sym_params"
   ]
  },
  {
   "cell_type": "code",
   "execution_count": null,
   "id": "b3f6ae6a",
   "metadata": {},
   "outputs": [],
   "source": [
    "sys_cm_np = lambdify([sym_x, sym_params], [sys_CM_x, sys_CM_y],'numpy')"
   ]
  },
  {
   "cell_type": "code",
   "execution_count": null,
   "id": "b8315e67",
   "metadata": {},
   "outputs": [],
   "source": [
    "ang_mom_p0 = angular_momentum(P0, N_in, *bodies).dot(N_in.z)\n",
    "ang_mom_p0_np = lambdify([sym_x, sym_params], ang_mom_p0,'numpy')"
   ]
  },
  {
   "cell_type": "code",
   "execution_count": null,
   "id": "9342214a",
   "metadata": {},
   "outputs": [],
   "source": [
    "from sympy.physics.mechanics import kinetic_energy, potential_energy"
   ]
  },
  {
   "cell_type": "code",
   "execution_count": null,
   "id": "c9c7a293",
   "metadata": {},
   "outputs": [],
   "source": [
    "system_energy = potential_energy(*bodies) + kinetic_energy(N_in, *bodies)"
   ]
  },
  {
   "cell_type": "code",
   "execution_count": null,
   "id": "1848aecc",
   "metadata": {},
   "outputs": [],
   "source": [
    "system_energy_np = lambdify([sym_x, sym_params], system_energy,'numpy')"
   ]
  },
  {
   "cell_type": "code",
   "execution_count": null,
   "id": "521c6d0b",
   "metadata": {},
   "outputs": [],
   "source": []
  },
  {
   "cell_type": "markdown",
   "id": "d0b0d545",
   "metadata": {},
   "source": [
    "### Casadi optimization"
   ]
  },
  {
   "cell_type": "code",
   "execution_count": null,
   "id": "c9c27580",
   "metadata": {},
   "outputs": [],
   "source": [
    "from optibot.casadi import accelrestriction2casadi\n",
    "from optibot.schemes import (euler_accel_restr, trapz_accel_restr, trapz_mod_accel_restr,\n",
    "                             hs_mod_accel_restr, hs_accel_restr)"
   ]
  },
  {
   "cell_type": "code",
   "execution_count": null,
   "id": "1af546d3",
   "metadata": {},
   "outputs": [],
   "source": [
    "I_0_n, I_1_n, I_2_n, I_3_n, I_4_n = 0.93, 1.08, 2.22, 1.08, 0.93\n",
    "d_0_n, d_1_n, d_2_n, d_3_n, d_4_n = 0.128, 0.163, 0.2, 0.163, 0.128\n",
    "g_n = 9.81\n",
    "l_0_n, l_1_n, l_2_n, l_3_n, l_4_n = 0.4, 0.4, 0.625, 0.4, 0.4\n",
    "m_0_n, m_1_n, m_2_n, m_3_n, m_4_n = 3.2, 6.8, 20, 6.8, 3.2\n",
    "params = [\n",
    "    I_0_n, I_1_n, I_2_n, I_3_n, I_4_n,\n",
    "    d_0_n, d_1_n, d_2_n, d_3_n, d_4_n,\n",
    "    g_n,\n",
    "    l_0_n, l_1_n, l_3_n,\n",
    "    m_0_n, m_1_n, m_2_n, m_3_n, m_4_n\n",
    "]\n",
    "additional_params = [l_4_n,]"
   ]
  },
  {
   "cell_type": "code",
   "execution_count": null,
   "id": "d31dee45",
   "metadata": {},
   "outputs": [],
   "source": []
  },
  {
   "cell_type": "code",
   "execution_count": null,
   "id": "7c157e80",
   "metadata": {},
   "outputs": [],
   "source": [
    "opti = cas.Opti()\n",
    "p_opts = {}#{\"expand\":True,'ipopt.print_level':0, 'print_time':0}\n",
    "s_opts = {}#{\"max_iter\": 10000, 'tol': 1e-26}#, 'linear_solver' : \"MA27\"}\n",
    "opti.solver(\"ipopt\",p_opts,\n",
    "                    s_opts)"
   ]
  },
  {
   "cell_type": "code",
   "execution_count": null,
   "id": "61ec9d2d",
   "metadata": {},
   "outputs": [],
   "source": [
    "N = 100\n",
    "X = opti.variable(N+1,10)\n",
    "X_dot = opti.variable(N+1,10)\n",
    "U = opti.variable(N+1,5)"
   ]
  },
  {
   "cell_type": "code",
   "execution_count": null,
   "id": "a1894aae",
   "metadata": {},
   "outputs": [],
   "source": [
    "T = opti.parameter()\n",
    "u_m = opti.parameter()\n",
    "Params_opti = opti.parameter(len(params))\n",
    "Add_params_opti = opti.parameter(len(additional_params))\n",
    "D = opti.parameter()"
   ]
  },
  {
   "cell_type": "code",
   "execution_count": null,
   "id": "c51696aa",
   "metadata": {},
   "outputs": [],
   "source": [
    "cost = cas.sum2((cas.sum1(U[:,:]**2)+cas.sum1(U[1:-1,:]**2))/N)\n",
    "#cost = cas.sum2(cas.sum1(U**2))\n",
    "opti.minimize(cost)"
   ]
  },
  {
   "cell_type": "code",
   "execution_count": null,
   "id": "8c2c03be",
   "metadata": {},
   "outputs": [],
   "source": []
  },
  {
   "cell_type": "code",
   "execution_count": null,
   "id": "63fce4d8",
   "metadata": {},
   "outputs": [],
   "source": [
    "#Periodic gait constraint:\n",
    "opti.subject_to(simetric_5_links(X[0,:], X[-1,:]) == 0)\n",
    "opti.subject_to(impact_cond_cas_f(X[-1,:], X[0,:], Params_opti, Add_params_opti) == 0)"
   ]
  },
  {
   "cell_type": "code",
   "execution_count": null,
   "id": "a8e1739c",
   "metadata": {},
   "outputs": [],
   "source": [
    "#Step size constraint:\n",
    "opti.subject_to(feet_x_cas(X[-1,:], Params_opti, Add_params_opti) == D)\n",
    "opti.subject_to(feet_y_cas(X[-1,:], Params_opti, Add_params_opti) == 0)"
   ]
  },
  {
   "cell_type": "code",
   "execution_count": null,
   "id": "a1ff76e3",
   "metadata": {},
   "outputs": [],
   "source": [
    "#Small Feet Conditions:\n",
    "opti.subject_to(U[:,0] == 0)\n",
    "opti.subject_to(feet_y_vel_cas(X[0,:], Params_opti, Add_params_opti)>0)\n",
    "opti.subject_to(feet_y_vel_cas(X[-1,:], Params_opti, Add_params_opti)<0)"
   ]
  },
  {
   "cell_type": "code",
   "execution_count": null,
   "id": "c6394141",
   "metadata": {},
   "outputs": [],
   "source": [
    "#Feet over ground Restrictions:\n",
    "for ii in range(1,N):\n",
    "    opti.subject_to(feet_y_cas(X[ii,:], Params_opti, Add_params_opti) > 0)"
   ]
  },
  {
   "cell_type": "code",
   "execution_count": null,
   "id": "4f49ff38",
   "metadata": {},
   "outputs": [],
   "source": []
  },
  {
   "cell_type": "code",
   "execution_count": null,
   "id": "cc2d3ec9",
   "metadata": {},
   "outputs": [],
   "source": [
    "#Dynamics Constraints:\n",
    "for ii in range(N+1):\n",
    "    opti.subject_to(imp_dyn_x_f_cas(X[ii,:], X_dot[ii,:], U[ii,:], [], Params_opti) == 0)"
   ]
  },
  {
   "cell_type": "code",
   "execution_count": null,
   "id": "2b887e6a",
   "metadata": {},
   "outputs": [],
   "source": [
    "#Scheme Constraints\n",
    "cas_accel_restr = accelrestriction2casadi(trapz_accel_restr, 5)\n",
    "for ii in range(N):\n",
    "    opti.subject_to(cas_accel_restr(X[ii,:], X[ii+1,:], X_dot[ii, 5:], X_dot[ii+1, 5:],T/N, []) == 0)"
   ]
  },
  {
   "cell_type": "code",
   "execution_count": null,
   "id": "997f8046",
   "metadata": {},
   "outputs": [],
   "source": [
    "opti.set_value(T, 0.7)#0.7\n",
    "opti.set_value(D, 0.5)"
   ]
  },
  {
   "cell_type": "code",
   "execution_count": null,
   "id": "9cad9d27",
   "metadata": {},
   "outputs": [],
   "source": [
    "opti.set_value(Params_opti, params)\n",
    "opti.set_value(Add_params_opti, additional_params)"
   ]
  },
  {
   "cell_type": "markdown",
   "id": "a4302cce",
   "metadata": {},
   "source": [
    "#set initial pose fixed, different problem\n",
    "opti.subject_to(X[0,:].T == [-0.3, 0.7, 0, -0.5, -0.6, 0,0,0,0,0])\n",
    "for ii in range(N):\n",
    "    for jj in range(5):\n",
    "        opti.subject_to(U[ii,jj] < 2)\n",
    "        \n",
    "        opti.subject_to(U[ii,jj] >-2)"
   ]
  },
  {
   "cell_type": "code",
   "execution_count": null,
   "id": "c1cfc8c1",
   "metadata": {},
   "outputs": [],
   "source": [
    "q_0_guess = np.array([-0.3, 0.7, 0, -0.5, -0.6])\n",
    "q_1_guess = q_0_guess[::-1]\n",
    "s_arr = np.linspace(0, 1, N+1)\n",
    "q_guess = np.expand_dims(q_0_guess,0)+ np.expand_dims(s_arr,1)*np.expand_dims((q_1_guess - q_0_guess),0)\n",
    "\n",
    "q_dot_guess = (q_1_guess - q_0_guess) * np.ones([N+1,1])/opti.value(T)"
   ]
  },
  {
   "cell_type": "code",
   "execution_count": null,
   "id": "dfa11bc8",
   "metadata": {},
   "outputs": [],
   "source": [
    "opti.set_initial(X[:,:5], q_guess)\n",
    "opti.set_initial(X[:,5:], q_dot_guess)\n",
    "\n",
    "opti.set_initial(X_dot[:,:5], q_dot_guess)\n",
    "opti.set_initial(X_dot[:,5:], 0)\n",
    "\n",
    "opti.set_initial(U, 0)"
   ]
  },
  {
   "cell_type": "code",
   "execution_count": null,
   "id": "d0e3d8dd",
   "metadata": {},
   "outputs": [],
   "source": []
  },
  {
   "cell_type": "code",
   "execution_count": null,
   "id": "0e423883",
   "metadata": {
    "scrolled": false
   },
   "outputs": [],
   "source": [
    "sol = opti.solve()"
   ]
  },
  {
   "cell_type": "code",
   "execution_count": null,
   "id": "d96f76d6",
   "metadata": {},
   "outputs": [],
   "source": [
    "U_sol = sol.value(U)\n",
    "X_sol = sol.value(X)\n",
    "T_sol = sol.value(T)\n",
    "T_sol_arr = np.linspace(0, T_sol, N+1)"
   ]
  },
  {
   "cell_type": "code",
   "execution_count": null,
   "id": "aa00f5ff",
   "metadata": {},
   "outputs": [],
   "source": [
    "plt.figure(figsize=[14,10])\n",
    "labels= ['stance anckle', 'stance knee', 'stance hip', 'swing hip', 'swing knee']\n",
    "for ii in range(5):\n",
    "    plt.plot(U_sol[:,ii], label = labels[ii])\n",
    "plt.grid()\n",
    "plt.legend()"
   ]
  },
  {
   "cell_type": "code",
   "execution_count": null,
   "id": "5adb591b",
   "metadata": {},
   "outputs": [],
   "source": [
    "plt.figure(figsize=[14,10])\n",
    "labels= ['stance tibia', 'stance femur', 'torso', 'swing femur', 'swing tibia']\n",
    "for ii in range(5):\n",
    "    plt.plot(X_sol[:,ii], label = labels[ii])\n",
    "plt.grid()\n",
    "plt.legend()"
   ]
  },
  {
   "cell_type": "code",
   "execution_count": null,
   "id": "1a4baa46",
   "metadata": {},
   "outputs": [],
   "source": [
    "def chain_to_draw(x,params):\n",
    "    [\n",
    "    I_0_n, I_1_n, I_2_n, I_3_n, I_4_n,\n",
    "    d_0_n, d_1_n, d_2_n, d_3_n, d_4_n,\n",
    "    g_n,\n",
    "    l_0_n, l_1_n, l_3_n,\n",
    "    m_0_n, m_1_n, m_2_n, m_3_n, m_4_n\n",
    "    ] = params\n",
    "    points_x = [0, ]\n",
    "    points_y = [0, ]\n",
    "    points_x.append(points_x[-1] - l_0_n*np.sin(x[0]))\n",
    "    points_x.append(points_x[-1] - l_1_n*np.sin(x[1]))\n",
    "    points_x.append(points_x[-1] - l_2_n*np.sin(x[2]))\n",
    "    points_x.append(points_x[-2])\n",
    "    points_x.append(points_x[-1] + l_3_n*np.sin(x[3]))\n",
    "    points_x.append(points_x[-1] + l_4_n*np.sin(x[4]))\n",
    "    \n",
    "    \n",
    "    points_y.append(points_y[-1] + l_0_n*np.cos(x[0]))\n",
    "    points_y.append(points_y[-1] + l_1_n*np.cos(x[1]))\n",
    "    points_y.append(points_y[-1] + l_2_n*np.cos(x[2]))\n",
    "    points_y.append(points_y[-2])\n",
    "    points_y.append(points_y[-1] - l_3_n*np.cos(x[3]))\n",
    "    points_y.append(points_y[-1] - l_4_n*np.cos(x[4]))\n",
    "    \n",
    "    return points_x, points_y"
   ]
  },
  {
   "cell_type": "code",
   "execution_count": null,
   "id": "5b133ebd",
   "metadata": {},
   "outputs": [],
   "source": [
    "points_x, points_y = chain_to_draw(X_sol[0], params)"
   ]
  },
  {
   "cell_type": "code",
   "execution_count": null,
   "id": "72cc981e",
   "metadata": {
    "scrolled": false
   },
   "outputs": [],
   "source": [
    "plt.figure(figsize=[15,15])\n",
    "plt.grid()\n",
    "for ii in range(N+1):\n",
    "    points_x, points_y = chain_to_draw(X_sol[ii], params)\n",
    "    plt.plot(points_x, points_y, color = plt.cm.viridis(ii/N))\n",
    "    \n",
    "\n",
    "plt.gca().set_aspect('equal')"
   ]
  },
  {
   "cell_type": "code",
   "execution_count": null,
   "id": "e4b4b870",
   "metadata": {},
   "outputs": [],
   "source": []
  },
  {
   "cell_type": "code",
   "execution_count": null,
   "id": "ae887252",
   "metadata": {},
   "outputs": [],
   "source": [
    "total_mass = m_0_n + m_1_n + m_2_n + m_3_n + m_4_n\n",
    "ang_mom_arr = [ang_mom_p0_np(X_sol[ii,:],params) for ii in range(N+1)]\n",
    "cm_torque_arr = [total_mass * -g_n * sys_cm_np(X_sol[ii,:], params)[0] for ii in range(N+1)]\n",
    "ang_mom_arr_deriv = np.gradient(ang_mom_arr, T_sol_arr)"
   ]
  },
  {
   "cell_type": "code",
   "execution_count": null,
   "id": "a201ce75",
   "metadata": {},
   "outputs": [],
   "source": [
    "plt.figure(figsize=[15,10])\n",
    "\n",
    "plt.plot(T_sol_arr, ang_mom_arr)\n",
    "plt.plot(T_sol_arr, cm_torque_arr)\n",
    "plt.plot(T_sol_arr, ang_mom_arr_deriv)\n",
    "plt.grid()"
   ]
  },
  {
   "cell_type": "code",
   "execution_count": null,
   "id": "4554bea0",
   "metadata": {},
   "outputs": [],
   "source": [
    "system_energy_arr = [system_energy_np(X_sol[ii,:],params) for ii in range(N+1)]\n",
    "system_energy_arr_deriv = np.gradient(system_energy_arr, T_sol_arr)\n",
    "joint_angles = -X_sol[:,:4]+X_sol[:,1:5]\n",
    "joint_speeds = -X_sol[:,5:9]+X_sol[:,6:10]\n",
    "external_power = np.sum(joint_speeds*U_sol[:,1:], axis=1)"
   ]
  },
  {
   "cell_type": "code",
   "execution_count": null,
   "id": "3409747b",
   "metadata": {},
   "outputs": [],
   "source": [
    "plt.figure(figsize=[15,10])\n",
    "\n",
    "plt.plot(T_sol_arr, system_energy_arr)\n",
    "plt.plot(T_sol_arr, system_energy_arr_deriv)\n",
    "plt.plot(T_sol_arr, external_power)\n",
    "plt.grid()"
   ]
  },
  {
   "cell_type": "code",
   "execution_count": null,
   "id": "7686cf56",
   "metadata": {},
   "outputs": [],
   "source": []
  },
  {
   "cell_type": "code",
   "execution_count": null,
   "id": "a6dda02b",
   "metadata": {},
   "outputs": [],
   "source": []
  },
  {
   "cell_type": "code",
   "execution_count": null,
   "id": "29fa8d29",
   "metadata": {
    "scrolled": true
   },
   "outputs": [],
   "source": [
    "\n",
    "for ii in range(N+1):\n",
    "    plt.figure(figsize=[5,5])\n",
    "    plt.grid()\n",
    "    points_x, points_y = chain_to_draw(X_sol[ii], params)\n",
    "    plt.plot(points_x, points_y, )\n",
    "    \n",
    "\n",
    "    plt.gca().set_aspect('equal')"
   ]
  },
  {
   "cell_type": "code",
   "execution_count": null,
   "id": "e66b13ce",
   "metadata": {},
   "outputs": [],
   "source": [
    "x_guess = X_sol.copy()\n",
    "x_guess[:,:5] = q_guess\n",
    "x_guess[:,5:] = q_dot_guess"
   ]
  },
  {
   "cell_type": "code",
   "execution_count": null,
   "id": "a44f6afd",
   "metadata": {
    "scrolled": false
   },
   "outputs": [],
   "source": [
    "plt.figure(figsize=[15,15])\n",
    "plt.grid()\n",
    "for ii in range(N+1):\n",
    "    points_x, points_y = chain_to_draw(x_guess[ii], params)\n",
    "    plt.plot(points_x, points_y, color = plt.cm.viridis(ii/26))\n",
    "    \n",
    "\n",
    "plt.gca().set_aspect('equal')"
   ]
  },
  {
   "cell_type": "code",
   "execution_count": null,
   "id": "568efb05",
   "metadata": {},
   "outputs": [],
   "source": [
    "from matplotlib import animation, rc\n",
    "import matplotlib.patches as patches\n",
    "from matplotlib.transforms import Affine2D\n",
    "from IPython.display import HTML\n",
    "import matplotlib"
   ]
  },
  {
   "cell_type": "code",
   "execution_count": null,
   "id": "ded4ed35",
   "metadata": {},
   "outputs": [],
   "source": [
    "matplotlib.rcParams['animation.embed_limit'] = 200"
   ]
  },
  {
   "cell_type": "code",
   "execution_count": null,
   "id": "46104564",
   "metadata": {},
   "outputs": [],
   "source": [
    "def create_anim_simp(X, U, params):\n",
    "    [\n",
    "    I_0_n, I_1_n, I_2_n, I_3_n, I_4_n,\n",
    "    d_0_n, d_1_n, d_2_n, d_3_n, d_4_n,\n",
    "    g_n,\n",
    "    l_0_n, l_1_n, l_3_n,\n",
    "    m_0_n, m_1_n, m_2_n, m_3_n, m_4_n\n",
    "    ] = params\n",
    "    \n",
    "    N = X.shape[0]\n",
    "    fig, ax = plt.subplots()\n",
    "    draw_width = 14\n",
    "    draw_height = 14\n",
    "    \n",
    "    fig.set_size_inches([draw_width,draw_height])\n",
    "    ax.set_xlim(( -1, 1))\n",
    "    ax.set_ylim(( -0.2, 1.8))\n",
    "    \n",
    "    line1, = ax.plot([], [], lw=2)\n",
    "    sys_cm_point, = ax.plot([], [], 'go', ms=12)\n",
    "    line_sys_cm, = ax.plot([], [], 'k:', lw=1)\n",
    "    \n",
    "    ax.grid()\n",
    "    \n",
    "    def init():\n",
    "        line1.set_data([], [])\n",
    "        sys_cm_point.set_data([], [])\n",
    "        line_sys_cm.set_data([], [])\n",
    "        return (line1,sys_cm_point,line_sys_cm)\n",
    "    \n",
    "    def animate(i):\n",
    "        margin_x = -0.25 + i * 0.5/N\n",
    "        sys_cm_coords = sys_cm_np(X[i,:], params)\n",
    "        sys_cm_point.set_data(sys_cm_coords)\n",
    "        line_sys_cm.set_data([0, sys_cm_coords[0]], [0, sys_cm_coords[1]])\n",
    "        \n",
    "        ax.set_xlim(( -1+ margin_x, 1+ margin_x))\n",
    "        points_x, points_y = chain_to_draw(X[i,:], params)\n",
    "        line1.set_data(points_x, points_y) \n",
    "        return (line1,sys_cm_point,line_sys_cm)\n",
    "    anim = animation.FuncAnimation(fig, animate, init_func=init,\n",
    "                               frames=N, interval=20, \n",
    "                               blit=True)\n",
    "    return anim"
   ]
  },
  {
   "cell_type": "code",
   "execution_count": null,
   "id": "037e9d09",
   "metadata": {},
   "outputs": [],
   "source": [
    "anim_simp = create_anim_simp(X_sol, U_sol, params)"
   ]
  },
  {
   "cell_type": "code",
   "execution_count": null,
   "id": "74212f2a",
   "metadata": {},
   "outputs": [],
   "source": [
    "HTML(anim_simp.to_jshtml())"
   ]
  },
  {
   "cell_type": "code",
   "execution_count": null,
   "id": "b3896e0a",
   "metadata": {},
   "outputs": [],
   "source": []
  },
  {
   "cell_type": "code",
   "execution_count": null,
   "id": "584edefb",
   "metadata": {},
   "outputs": [],
   "source": []
  },
  {
   "cell_type": "code",
   "execution_count": null,
   "id": "47b0e8e9",
   "metadata": {},
   "outputs": [],
   "source": []
  },
  {
   "cell_type": "code",
   "execution_count": null,
   "id": "d5a77840",
   "metadata": {},
   "outputs": [],
   "source": [
    "def create_anim_simp(X, U, params):\n",
    "    [\n",
    "    I_0_n, I_1_n, I_2_n, I_3_n, I_4_n,\n",
    "    d_0_n, d_1_n, d_2_n, d_3_n, d_4_n,\n",
    "    g_n,\n",
    "    l_0_n, l_1_n, l_3_n,\n",
    "    m_0_n, m_1_n, m_2_n, m_3_n, m_4_n\n",
    "    ] = params\n",
    "    \n",
    "    N = X.shape[0]\n",
    "    fig, ax = plt.subplots()\n",
    "    \n",
    "    y_scale = 1\n",
    "    min_x_cart = np.min(X[:,0])\n",
    "    max_x_cart = np.max(X[:,0])\n",
    "    cart_displ = max_x_cart-min_x_cart\n",
    "    size_x = 2*y_scale + cart_displ\n",
    "    size_y = 2*y_scale\n",
    "    draw_width = 14\n",
    "    draw_height = draw_width / size_x * size_y\n",
    "    \n",
    "    x_0 = X[:,0]\n",
    "    y_0 = np.zeros_like(x_0)\n",
    "    x_1 = x_0 + l_3*np.sin(X[:,1])\n",
    "    y_1 = y_0 - l_3*np.cos(X[:,1])\n",
    "    \n",
    "    x_cm = (m_0 * x_0 + m_2 * x_1)/(m_0 + m_2)\n",
    "    y_cm = (m_0 * y_0 + m_2 * y_1)/(m_0 + m_2)\n",
    "\n",
    "    fig.set_size_inches([draw_width,draw_height])\n",
    "    ax.set_xlim(( min_x_cart-y_scale, max_x_cart+y_scale))\n",
    "    ax.set_ylim(( -y_scale, y_scale))\n",
    "\n",
    "    circle1 = plt.Circle((0, 0), l_3, color='b', ls = \":\", fill=False)\n",
    "    ax.add_artist(circle1)\n",
    "    ax.plot([min_x_cart - l_3, max_x_cart + l_3], [0,0], 'k', lw=1, ls = ':')\n",
    "\n",
    "    line1, = ax.plot([], [], lw=2)\n",
    "    line3, = ax.plot([], [], 'k', lw=1, ls = ':')\n",
    "    line_cm, = ax.plot([], [], 'g', lw=1, ls = ':')\n",
    "    point0, = ax.plot([], [], marker='o', markersize=15, color=\"red\")\n",
    "    point1, = ax.plot([], [], marker='o', markersize=15, color=\"red\")\n",
    "    point_cm, = ax.plot([], [], marker='o', markersize=10, color=\"green\")\n",
    "    u_max = max(np.max(np.abs(U[:,0])),1e-15)\n",
    "    arrow_w = 0.05*l_3\n",
    "    arrow_l = 0.2*l_3\n",
    "    u_arrow = patches.Arrow(0, 0, 0, -arrow_l, color = 'gray',width = arrow_w)\n",
    "    ax.add_patch(u_arrow)\n",
    "    \n",
    "    print_vars = [X[:,0], X[:,1], U[:,0], U[:,1], np.linspace(0, N-1, N, dtype=int)]\n",
    "    print_var_names = ['q_0', 'q_1', 'u_0', 'u_1', 'step']\n",
    "    texts = []\n",
    "    ii = 0\n",
    "    for arr in print_vars:\n",
    "        texts.append(ax.text(0.2, ii, \"\", fontsize = 12))\n",
    "        ii -= 0.08*l_3\n",
    "    \n",
    "    def init():\n",
    "        line1.set_data([], [])\n",
    "        line3.set_data([], [])\n",
    "        line_cm.set_data([], [])\n",
    "        point1.set_data([], [])\n",
    "        circle1.center = (0, 0)\n",
    "        return (line1,)\n",
    "    def animate(i):\n",
    "        circle1.center = (x_0[i], y_0[i])\n",
    "        point0.set_data(x_0[i], y_0[i])\n",
    "        line1.set_data([x_0[i], x_1[i]], [y_0[i], y_1[i]])    \n",
    "        point1.set_data(x_1[i], y_1[i])\n",
    "        point_cm.set_data(x_cm[i], y_cm[i])\n",
    "        line3.set_data(x_1[:i], y_1[:i])\n",
    "        line_cm.set_data(x_cm[:i], y_cm[:i])\n",
    "        trans = Affine2D()\n",
    "        u_arrow._patch_transform = trans.scale(U[i,0] * arrow_l / u_max, arrow_w).translate(x_0[i],0)\n",
    "        for ii in range(len(texts)):\n",
    "            text = texts[ii]\n",
    "            name = print_var_names[ii]\n",
    "            arr = print_vars[ii]\n",
    "            text.set_text(\"$\" + name + \"$ = %.6f\" % arr[i])\n",
    "        return (line1,u_arrow)\n",
    "    anim = animation.FuncAnimation(fig, animate, init_func=init,\n",
    "                               frames=N, interval=20, \n",
    "                               blit=True)\n",
    "    return anim"
   ]
  },
  {
   "cell_type": "code",
   "execution_count": null,
   "id": "0f31c003",
   "metadata": {},
   "outputs": [],
   "source": []
  },
  {
   "cell_type": "code",
   "execution_count": null,
   "id": "8457c562",
   "metadata": {},
   "outputs": [],
   "source": []
  },
  {
   "cell_type": "code",
   "execution_count": null,
   "id": "2aff200d",
   "metadata": {},
   "outputs": [],
   "source": []
  },
  {
   "cell_type": "code",
   "execution_count": null,
   "id": "7294003f",
   "metadata": {},
   "outputs": [],
   "source": []
  },
  {
   "cell_type": "code",
   "execution_count": null,
   "id": "7f91528e",
   "metadata": {},
   "outputs": [],
   "source": []
  },
  {
   "cell_type": "code",
   "execution_count": null,
   "id": "7490fef2",
   "metadata": {},
   "outputs": [],
   "source": [
    "def gen_ini_guess(N = 25, ini_guess = 'zero'):\n",
    "    if ini_guess == 'zero':\n",
    "        x_init_guess = np.zeros([N+1,4])\n",
    "    elif ini_guess == 'lin':\n",
    "        def_q1 = np.linspace(0,1,N+1)\n",
    "        def_q2 = np.linspace(0,np.pi,N+1)\n",
    "        def_v1 = np.zeros(N+1)\n",
    "        def_v2 = np.zeros(N+1)\n",
    "        x_init_guess = np.array([def_q1, def_q2, def_v1, def_v2]).T\n",
    "    elif ini_guess == 'funcs':\n",
    "        def_t = np.linspace(0,2,N+1)\n",
    "        def_q1 = (0.8*np.arctan(def_t*3))**2\n",
    "        def_q2 = -np.sin(3*def_t**0.8)*def_t*2\n",
    "        def_v1 = np.sin(5*def_t)/(def_t+0.2)\n",
    "        def_v2 = -3*np.sin(5*def_t**0.8)*(4*def_t - 2*def_t**2)\n",
    "        x_init_guess = np.array([def_q1, def_q2, def_v1, def_v2]).T\n",
    "    return x_init_guess\n",
    "\n",
    "def sol_value(u_arr):\n",
    "    N = len(u_arr)\n",
    "    return(np.sum(u_arr[:]**2)+np.sum(u_arr[1:-1]**2))/N"
   ]
  },
  {
   "cell_type": "code",
   "execution_count": null,
   "id": "0f7e23a1",
   "metadata": {},
   "outputs": [],
   "source": [
    "import time\n",
    "def chrono_solve(opti, solve_repetitions):\n",
    "    cput0 = time.time()\n",
    "    for ii in range(solve_repetitions):\n",
    "        sol = opti.solve()\n",
    "    cput1 = time.time()\n",
    "    cpudt = (cput1-cput0)/solve_repetitions\n",
    "    return sol, cpudt\n"
   ]
  },
  {
   "cell_type": "code",
   "execution_count": null,
   "id": "635a0d9d",
   "metadata": {},
   "outputs": [],
   "source": [
    "def casadi_cartpole(N = 25, scheme = 'euler', ini_guess = 'zero', solve_repetitions = 1):\n",
    "    opti = cas.Opti()\n",
    "    p_opts = {\"expand\":True,'ipopt.print_level':0, 'print_time':0}\n",
    "    s_opts = {\"max_iter\": 10000, 'tol': 1e-26}#, 'linear_solver' : \"MA27\"}\n",
    "    opti.solver(\"ipopt\",p_opts,\n",
    "                        s_opts)\n",
    "    restr_schemes = {\n",
    "        'euler': euler_restr,\n",
    "        'trapz': trapz_restr,\n",
    "        'trapz_mod' : trapz_mod_restr,\n",
    "        'hs': hs_restr,\n",
    "        'hs_mod': hs_mod_restr,\n",
    "        'hs_parab': hs_parab_restr,\n",
    "        'hs_mod_parab': hs_mod_parab_restr\n",
    "    }\n",
    "    \n",
    "    f_restr = restr_schemes[scheme]\n",
    "    if scheme in ['hs_parab', 'hs_mod_parab']:\n",
    "        parab = True\n",
    "    else:\n",
    "        parab = False\n",
    "    X = opti.variable(N+1,4)\n",
    "    U = opti.variable(N+1,1)\n",
    "    if parab:\n",
    "        U_c = opti.variable(N,1)\n",
    "    T = opti.parameter()\n",
    "    u_m = opti.parameter(1)\n",
    "    Params = opti.parameter(4)\n",
    "\n",
    "    cost = (cas.sum1(U[:,0]**2)+cas.sum1(U[1:-1,0]**2))/N\n",
    "    if parab:\n",
    "        cost = (4*cas.sum1(U_c[:,0]**2) + cas.sum1(U[:,0]**2)+cas.sum1(U[1:-1,0]**2))/(3*N)\n",
    "    #cost = cas.sum1(cas.cos(X[:,1]))\n",
    "    #cost = T\n",
    "    opti.minimize(cost)\n",
    "\n",
    "    opti.subject_to(X[0,:].T == [0, 0, 0, 0])\n",
    "    opti.subject_to(X[-1,:].T == [1, np.pi, 0, 0])\n",
    "    if parab: \n",
    "        restriction = restriction2casadi(f_restr, F_cas_simp, 2, 1, 4, 1)\n",
    "    else:\n",
    "        restriction = restriction2casadi(f_restr, F_cas_simp, 2, 1, 4)\n",
    "\n",
    "    for ii in range(N):\n",
    "        if parab:\n",
    "            opti.subject_to(restriction(X[ii,:], X[ii+1,:], U[ii,:], U[ii+1],T/N, Params, U_c[ii])==0)\n",
    "            opti.subject_to(opti.bounded(-u_m, U_c[ii] ,u_m))\n",
    "        else:\n",
    "            opti.subject_to(restriction(X[ii,:], X[ii+1,:], U[ii,:], U[ii+1,:],T/N, Params)==0)\n",
    "        opti.subject_to(opti.bounded(-u_m,U[ii],u_m))\n",
    "\n",
    "    opti.subject_to(opti.bounded(-u_m,U[-1, 0],u_m))\n",
    "    opti.set_value(T, 2)\n",
    "    max_f = 20.0\n",
    "    opti.set_value(u_m, max_f)\n",
    "\n",
    "    m0_n, m1_n = [1., 0.3]\n",
    "    l_n = 0.5\n",
    "    g_n = 9.81\n",
    "    opti.set_value(Params, [g_n, l_n, m0_n, m1_n])\n",
    "    \n",
    "    opti.set_initial(X, gen_ini_guess(N, ini_guess))\n",
    "    sol, cpudt = chrono_solve(opti, solve_repetitions)\n",
    "    xx_simp = sol.value(X)\n",
    "    uu_simp = sol.value(U)\n",
    "    if parab:\n",
    "        uu_c = sol.value(U_c)\n",
    "    else:\n",
    "        uu_c = None\n",
    "    return xx_simp, uu_simp, uu_c, cpudt"
   ]
  },
  {
   "cell_type": "code",
   "execution_count": null,
   "id": "70cd8997",
   "metadata": {
    "scrolled": true
   },
   "outputs": [],
   "source": [
    "schemes = ['hs', 'hs_mod', 'hs_parab', 'hs_mod_parab']\n",
    "initials = ['lin', 'funcs']\n",
    "solve_repetitions = 3\n",
    "N_arr = [10,15,20,25,30,40,50,75,100,150]\n",
    "\n",
    "results = {}\n",
    "\n",
    "for scheme in schemes:\n",
    "    for init in initials:\n",
    "        key = scheme + '_' + init\n",
    "        print('Problem:', key)\n",
    "        results[key] = {'N_arr':N_arr}\n",
    "        for N in N_arr:\n",
    "            print(f'\\tN = {N}')\n",
    "            xx, uu, uu_c, cpudt = casadi_cartpole(N, scheme, init, solve_repetitions)\n",
    "            results[key][N] = {\n",
    "                'x': xx,\n",
    "                'u': uu,\n",
    "                'u_c': uu_c,\n",
    "                'cpudt': cpudt\n",
    "            }\n",
    "\n",
    "\n",
    "#xx_hs_lin, uu_hs_lin, _, cpudt_hs_lin = casadi_cartpole(25, 'hs', ini_guess = 'lin', solve_repetitions = 10)\n",
    "#xx_hs_fun, uu_hs_fun, _, cpudt_hs_fun = casadi_cartpole(25, 'hs', ini_guess = 'funcs', solve_repetitions = 10)\n",
    "#xx_mod_lin, uu_mod_lin, _, cpudt_mod_lin = casadi_cartpole(25, 'hs_mod', ini_guess = 'lin', solve_repetitions = 10)\n",
    "#xx_mod_fun, uu_mod_fun, _, cpudt_mod_fun = casadi_cartpole(25, 'hs_mod', ini_guess = 'funcs', solve_repetitions = 10)\n",
    "\n",
    "#xx_hs_par_lin, uu_hs_par_lin, uu_c_hs_par_lin, cpudt_hs_par_lin = casadi_cartpole(25, 'hs_parab', ini_guess = 'lin', solve_repetitions = 10)\n",
    "#xx_hs_par_fun, uu_hs_par_fun, uu_c_hs_par_fun, cpudt_hs_par_fun = casadi_cartpole(25, 'hs_parab', ini_guess = 'funcs', solve_repetitions = 10)\n",
    "#xx_mod_par_lin, uu_mod_par_lin, uu_c_mod_par_lin, cpudt_mod_par_lin = casadi_cartpole(25, 'hs_mod_parab', ini_guess = 'lin', solve_repetitions = 10)\n",
    "#xx_mod_par_fun, uu_mod_par_fun, uu_c_mod_par_fun, cpudt_mod_par_fun = casadi_cartpole(25, 'hs_mod_parab', ini_guess = 'funcs', solve_repetitions = 10)"
   ]
  },
  {
   "cell_type": "code",
   "execution_count": null,
   "id": "8e96a84b",
   "metadata": {},
   "outputs": [],
   "source": [
    "def parab_cost(U, U_c, N = 25):\n",
    "    cost = (4*np.sum(U_c[:,]**2) + np.sum(U[:,]**2)+np.sum(U[1:-1,]**2))/(3*N)\n",
    "    return cost"
   ]
  },
  {
   "cell_type": "code",
   "execution_count": null,
   "id": "d6236b5b",
   "metadata": {},
   "outputs": [],
   "source": [
    "parab_cost(results['hs_parab_funcs'][25]['u'],results['hs_parab_funcs'][25]['u_c'])"
   ]
  },
  {
   "cell_type": "code",
   "execution_count": null,
   "id": "0bf0d0d4",
   "metadata": {},
   "outputs": [],
   "source": [
    "parab_cost(results['hs_parab_lin'][25]['u'],results['hs_parab_lin'][25]['u_c'])"
   ]
  },
  {
   "cell_type": "code",
   "execution_count": null,
   "id": "86990a83",
   "metadata": {},
   "outputs": [],
   "source": [
    "for scheme in schemes:\n",
    "    for init in initials:\n",
    "        key = scheme + '_' + init\n",
    "        print(key, results[key][25]['cpudt'])"
   ]
  },
  {
   "cell_type": "code",
   "execution_count": null,
   "id": "dfedce78",
   "metadata": {
    "scrolled": false
   },
   "outputs": [],
   "source": [
    "plt.figure(figsize=[16,10])\n",
    "labels = ['q1','q2','v1','v2']\n",
    "#for ii in range(4):\n",
    "ii = 0\n",
    "key = 'hs_parab_lin'\n",
    "plt.plot(results[key][25]['x'][:,ii], label = labels[ii])\n",
    "key = 'hs_mod_parab_lin'\n",
    "plt.plot(results[key][25]['x'][:,ii], label = labels[ii])\n",
    "plt.grid()\n",
    "plt.legend()"
   ]
  },
  {
   "cell_type": "code",
   "execution_count": null,
   "id": "a2420d9b",
   "metadata": {},
   "outputs": [],
   "source": [
    "plt.figure(figsize=[16,10])\n",
    "key = 'hs_parab_lin'\n",
    "plt.plot(np.linspace(0,2,26),results[key][25]['u'][:], 'o',label = 'u Siro')\n",
    "plt.plot(np.linspace(0,2,51)[1::2],results[key][25]['u_c'][:], 'o',label = 'u_c Siro')\n",
    "\n",
    "key = 'hs_mod_parab_lin'\n",
    "plt.plot(np.linspace(0,2,26),results[key][25]['u'][:], 'o',label = 'u Siro')\n",
    "plt.grid()\n",
    "plt.legend()"
   ]
  },
  {
   "cell_type": "code",
   "execution_count": null,
   "id": "72d66084",
   "metadata": {},
   "outputs": [],
   "source": [
    "from optibot.schemes import integrate_hs, integrate_trapz, integrate_euler, integrate_rk4, integrate_hs_mod"
   ]
  },
  {
   "cell_type": "code",
   "execution_count": null,
   "id": "57f9cb47",
   "metadata": {},
   "outputs": [],
   "source": [
    "from optibot.numpy import RHS2numpy"
   ]
  },
  {
   "cell_type": "code",
   "execution_count": null,
   "id": "cb8e4159",
   "metadata": {
    "scrolled": true
   },
   "outputs": [],
   "source": [
    "F_nump = RHS2numpy(RHS_small, 2)"
   ]
  },
  {
   "cell_type": "code",
   "execution_count": null,
   "id": "112f7afb",
   "metadata": {},
   "outputs": [],
   "source": [
    "F_nump([0,0,0,0],[0.5,], params)"
   ]
  },
  {
   "cell_type": "code",
   "execution_count": null,
   "id": "a52b47fd",
   "metadata": {},
   "outputs": [],
   "source": [
    "from optibot.schemes import interpolated_array, interpolated_array_derivative, dynamic_error"
   ]
  },
  {
   "cell_type": "code",
   "execution_count": null,
   "id": "771f6678",
   "metadata": {},
   "outputs": [],
   "source": [
    "key = 'hs_parab_funcs'\n",
    "N_prob = 25\n",
    "xx_hs_parab_lin_int, uu_hs_parab_lin_int = interpolated_array(\n",
    "    results[key][N_prob]['x'],\n",
    "    results[key][N_prob]['u'],\n",
    "    F_nump,\n",
    "    2/N_prob,\n",
    "    np.linspace(0, 2, 2000),\n",
    "    params,\n",
    "    \"hs_parab\",\n",
    "    'parab',\n",
    "    [results[key][N_prob]['u_c'],]\n",
    ")\n",
    "plt.figure(figsize=[16,8])\n",
    "plt.plot(np.linspace(0,2,N_prob+1),results[key][N_prob]['u'][:], 'o',label = 'u Siro')\n",
    "plt.plot(np.linspace(0,2,2*N_prob+1)[1::2],results[key][N_prob]['u_c'][:], 'o',label = 'u_c Siro')\n",
    "plt.plot(np.linspace(0,2,2000),uu_hs_parab_lin_int, label = 'interp Siro')\n",
    "plt.grid()\n",
    "plt.legend()\n",
    "ii = 3\n",
    "plt.figure(figsize=[16,10])\n",
    "plt.plot(np.linspace(0,2,N_prob+1),results[key][N_prob]['x'][:,ii], 'o',label = 'X Siro')\n",
    "plt.plot(np.linspace(0,2,2000),xx_hs_parab_lin_int[:,ii], label = 'interp Siro')\n",
    "plt.grid()\n",
    "plt.legend()"
   ]
  },
  {
   "cell_type": "code",
   "execution_count": null,
   "id": "8a7bf957",
   "metadata": {},
   "outputs": [],
   "source": [
    "n_graph = 1000\n",
    "t_arr = np.linspace(0,2,n_graph)\n",
    "key = 'hs_parab_lin'\n",
    "dyn_err_q_hs_lin, dyn_err_v_hs_lin, dyn_err_2_a_hs_lin, dyn_err_2_b_hs_lin = dynamic_error(\n",
    "    results[key][25]['x'], results[key][25]['u'], 2, F_nump, params,\n",
    "    scheme = 'hs_parab', scheme_params=[results[key][25]['u_c'],],\n",
    "    n_interp= n_graph)\n",
    "\n",
    "\n",
    "plt.figure(figsize=[14,8])\n",
    "ii = 0\n",
    "plt.plot(t_arr,-dyn_err_q_hs_lin[:,ii], '-', label = f'q {ii}')\n",
    "plt.plot(np.linspace(0,2,26), np.zeros(26), 'ok')\n",
    "plt.legend()\n",
    "plt.grid()\n",
    "plt.figure(figsize=[14,8])\n",
    "ii = 1\n",
    "plt.plot(t_arr,-dyn_err_q_hs_lin[:,ii], '-', label = f'q {ii}')\n",
    "plt.plot(np.linspace(0,2,26), np.zeros(26), 'ok')\n",
    "plt.legend()\n",
    "plt.grid()"
   ]
  },
  {
   "cell_type": "code",
   "execution_count": null,
   "id": "2cf38b4b",
   "metadata": {},
   "outputs": [],
   "source": [
    "n_graph = 10000\n",
    "t_arr = np.linspace(0,2,n_graph)\n",
    "key = 'hs_parab_lin'\n",
    "dyn_err_q_hs_lin, dyn_err_v_hs_lin, dyn_err_2_a_hs_lin, dyn_err_2_b_hs_lin = dynamic_error(\n",
    "    results[key][25]['x'], results[key][25]['u'], 2, F_nump, params,\n",
    "    scheme = 'hs_parab', u_scheme='parab', scheme_params=[results[key][25]['u_c'],],\n",
    "    n_interp= n_graph)\n",
    "\n",
    "\n",
    "plt.figure(figsize=[14,8])\n",
    "ii = 0\n",
    "plt.plot(t_arr,dyn_err_v_hs_lin[:,ii], '-', label = f'q {ii}')\n",
    "plt.plot(np.linspace(0,2,26), np.zeros(26), 'ok')\n",
    "plt.legend()\n",
    "plt.grid()\n",
    "plt.figure(figsize=[14,8])\n",
    "ii = 1\n",
    "plt.plot(t_arr,dyn_err_v_hs_lin[:,ii], '-', label = f'q {ii}')\n",
    "plt.plot(np.linspace(0,2,26), np.zeros(26), 'ok')\n",
    "plt.legend()\n",
    "plt.grid()"
   ]
  },
  {
   "cell_type": "code",
   "execution_count": null,
   "id": "dbf5f652",
   "metadata": {},
   "outputs": [],
   "source": [
    "n_graph = 10000\n",
    "t_arr = np.linspace(0,2,n_graph)\n",
    "key = 'hs_lin'\n",
    "dyn_err_q_hs_lin, dyn_err_v_hs_lin, dyn_err_2_a_hs_lin, dyn_err_2_b_hs_lin = dynamic_error(\n",
    "    results[key][25]['x'], results[key][25]['u'], 2, F_nump, params,\n",
    "    scheme = 'hs', scheme_params=[results[key][25]['u_c'],],\n",
    "    n_interp= n_graph)\n",
    "\n",
    "\n",
    "plt.figure(figsize=[14,8])\n",
    "ii = 0\n",
    "plt.plot(t_arr,dyn_err_v_hs_lin[:,ii], '-', label = f'q {ii}')\n",
    "plt.plot(np.linspace(0,2,26), np.zeros(26), 'ok')\n",
    "plt.legend()\n",
    "plt.grid()\n",
    "plt.figure(figsize=[14,8])\n",
    "ii = 1\n",
    "plt.plot(t_arr,dyn_err_v_hs_lin[:,ii], '-', label = f'q {ii}')\n",
    "plt.plot(np.linspace(0,2,26), np.zeros(26), 'ok')\n",
    "plt.legend()\n",
    "plt.grid()"
   ]
  },
  {
   "cell_type": "code",
   "execution_count": null,
   "id": "1943b61c",
   "metadata": {},
   "outputs": [],
   "source": [
    "def state_error(t_arr, dyn_err, N,):\n",
    "    n_int = len(t_arr)\n",
    "    interv_n = (N * t_arr)//2\n",
    "    err = []\n",
    "    cut_p = 0\n",
    "    for ii in range(1,N+1):\n",
    "        jj = np.searchsorted(interv_n, ii)\n",
    "        err_point = np.trapz(np.abs(dyn_err[cut_p:jj+1]), t_arr[cut_p:jj+1], axis=0)\n",
    "        err.append(err_point)\n",
    "        cut_p = jj\n",
    "    err = np.array(err, dtype = float)\n",
    "    return err\n",
    "\n",
    "def total_state_error(t_arr, dyn_err):\n",
    "    errors = np.trapz(np.abs(dyn_err), t_arr, axis=0)\n",
    "    return errors"
   ]
  },
  {
   "cell_type": "code",
   "execution_count": null,
   "id": "2411657e",
   "metadata": {},
   "outputs": [],
   "source": [
    "st_err = state_error(t_arr, dyn_err_2_b_hs_lin, 25)\n",
    "plt.figure(figsize=[12,6])\n",
    "ii = 0\n",
    "plt.plot(np.linspace(0,2,26)[1:],st_err[:,ii], 'o', label = f'q {ii}')\n",
    "plt.legend()\n",
    "plt.grid()\n",
    "plt.figure(figsize=[12,6])\n",
    "ii = 1\n",
    "plt.plot(np.linspace(0,2,26)[1:],st_err[:,ii], 'o', label = f'q {ii}')\n",
    "plt.legend()\n",
    "plt.grid()"
   ]
  },
  {
   "cell_type": "code",
   "execution_count": null,
   "id": "c99499ab",
   "metadata": {
    "scrolled": true
   },
   "outputs": [],
   "source": [
    "schemes = ['hs', 'hs_mod', 'hs_parab', 'hs_mod_parab']\n",
    "initials = ['lin', 'funcs']\n",
    "n_interp = 500\n",
    "for scheme in schemes:\n",
    "    for init in initials:\n",
    "        key = scheme + '_' + init\n",
    "        print('Problem:', key)\n",
    "        N_arr = results[key]['N_arr']\n",
    "        for N in N_arr:\n",
    "            print(f'\\tN = {N}')\n",
    "            if 'parab' in scheme:\n",
    "                u_scheme = 'parab'\n",
    "            else:\n",
    "                u_scheme = 'lin'\n",
    "            dyn_err_q, dyn_err_v, dyn_err_2_a, dyn_err_2_b = dynamic_error(\n",
    "                results[key][N]['x'],\n",
    "                results[key][N]['u'],\n",
    "                2,\n",
    "                F_nump,\n",
    "                params,\n",
    "                scheme = scheme,\n",
    "                u_scheme= u_scheme,\n",
    "                scheme_params=[results[key][N]['u_c'],],\n",
    "                n_interp = n_interp)\n",
    "            t_arr = np.linspace(0,2, n_interp)\n",
    "            tot_dyn_err_q = total_state_error(t_arr, dyn_err_q)\n",
    "            tot_dyn_err_v = total_state_error(t_arr, dyn_err_v)\n",
    "            tot_dyn_err_2_a = total_state_error(t_arr, dyn_err_2_a)\n",
    "            tot_dyn_err_2_b = total_state_error(t_arr, dyn_err_2_b)\n",
    "            results[key][N]['err_q_int'] = dyn_err_q\n",
    "            results[key][N]['err_v_int'] = dyn_err_v\n",
    "            results[key][N]['err_2_a_int'] = dyn_err_2_a\n",
    "            results[key][N]['err_2_b_int'] = dyn_err_2_b\n",
    "            results[key][N]['err_q'] = tot_dyn_err_q\n",
    "            results[key][N]['err_v'] = tot_dyn_err_v\n",
    "            results[key][N]['err_2_a'] = tot_dyn_err_2_a\n",
    "            results[key][N]['err_2_b'] = tot_dyn_err_2_b"
   ]
  },
  {
   "cell_type": "code",
   "execution_count": null,
   "id": "64e80b70",
   "metadata": {},
   "outputs": [],
   "source": [
    "schemes = ['hs', 'hs_mod', 'hs_parab', 'hs_mod_parab']\n",
    "initials = ['lin', 'funcs']\n",
    "for scheme in schemes:\n",
    "    for init in initials:\n",
    "        key = scheme + '_' + init\n",
    "        print('Problem:', key)\n",
    "        N_arr = results[key]['N_arr']\n",
    "        err_q_acum = []\n",
    "        err_v_acum = []\n",
    "        err_2_a_acum = []\n",
    "        err_2_b_acum = []\n",
    "        cpudt = []\n",
    "        for N in N_arr:\n",
    "            err_q_acum.append(results[key][N]['err_q'])\n",
    "            err_v_acum.append(results[key][N]['err_v'])\n",
    "            err_2_a_acum.append(results[key][N]['err_2_a'])\n",
    "            err_2_b_acum.append(results[key][N]['err_2_b'])\n",
    "            cpudt.append(results[key][N]['cpudt'])\n",
    "        results[key]['err_q_acum'] = np.array(err_q_acum, dtype = float)\n",
    "        results[key]['err_v_acum'] = np.array(err_v_acum, dtype = float)\n",
    "        results[key]['err_2_a_acum'] = np.array(err_2_a_acum, dtype = float)\n",
    "        results[key]['err_2_b_acum'] = np.array(err_2_b_acum, dtype = float)\n",
    "        results[key]['cpudt'] = np.array(cpudt, dtype = float)"
   ]
  },
  {
   "cell_type": "code",
   "execution_count": null,
   "id": "109dd7b4",
   "metadata": {},
   "outputs": [],
   "source": [
    "results[key]['cpudt']"
   ]
  },
  {
   "cell_type": "code",
   "execution_count": null,
   "id": "188bab74",
   "metadata": {},
   "outputs": [],
   "source": [
    "results['hs_parab_lin'][25]['err_2_b']"
   ]
  },
  {
   "cell_type": "code",
   "execution_count": null,
   "id": "3b3483a1",
   "metadata": {
    "scrolled": true
   },
   "outputs": [],
   "source": [
    "results['hs_mod_parab_lin'][25]['err_2_b']"
   ]
  },
  {
   "cell_type": "code",
   "execution_count": null,
   "id": "ef8ace45",
   "metadata": {},
   "outputs": [],
   "source": [
    "results['hs_lin'][25]['err_2_b']"
   ]
  },
  {
   "cell_type": "code",
   "execution_count": null,
   "id": "fd76771c",
   "metadata": {},
   "outputs": [],
   "source": [
    "results['hs_mod_lin'][25]['err_2_b']"
   ]
  },
  {
   "cell_type": "code",
   "execution_count": null,
   "id": "befbaed7",
   "metadata": {},
   "outputs": [],
   "source": [
    "schemes_graph = ['hs', 'hs_mod','hs_parab', 'hs_mod_parab']\n",
    "data_array = ['err_q_acum','err_v_acum','err_2_b_acum','cpudt']\n",
    "initial = 'lin'\n",
    "plt.figure(figsize=[16,12])\n",
    "\n",
    "\n",
    "data_key = data_array[2]\n",
    "qq = 0\n",
    "plt.title(data_key)\n",
    "for scheme in schemes_graph:\n",
    "    key = scheme + '_' + initial\n",
    "    print('Problem:', key)\n",
    "    N_arr = results[key]['N_arr']\n",
    "    if len(results[key][data_key].shape) == 1:\n",
    "        plt.plot(N_arr,results[key][data_key], marker = 'o',label = key)\n",
    "    else:\n",
    "        plt.plot(N_arr,results[key][data_key][:,qq], marker = 'o',label = key)\n",
    "plt.yscale('log')\n",
    "plt.grid()\n",
    "plt.legend()"
   ]
  },
  {
   "cell_type": "markdown",
   "id": "807d3fda",
   "metadata": {},
   "source": [
    "### Other checks"
   ]
  },
  {
   "cell_type": "code",
   "execution_count": null,
   "id": "d9467bae",
   "metadata": {},
   "outputs": [],
   "source": [
    "from optibot.schemes import hs_opti_step, hs_mod_opti_step, hs_parab_opti_step, hs_mod_parab_opti_step"
   ]
  },
  {
   "cell_type": "code",
   "execution_count": null,
   "id": "a18bb588",
   "metadata": {},
   "outputs": [],
   "source": [
    "n = 1\n",
    "F_nump(\n",
    "    results['hs_parab_lin'][25]['x'][n,:],\n",
    "    results['hs_parab_lin'][25]['u'][n],\n",
    "    params\n",
    ")"
   ]
  },
  {
   "cell_type": "code",
   "execution_count": null,
   "id": "16c18df0",
   "metadata": {},
   "outputs": [],
   "source": [
    "F_nump(\n",
    "    results['hs_parab_lin'][25]['x'][n,:],\n",
    "    results['hs_parab_lin'][25]['u'][n],\n",
    "    params\n",
    ")- np.array([0.328536435248556, -0.646480161416857, 5.98899879213531,  -11.5422545622471])"
   ]
  },
  {
   "cell_type": "code",
   "execution_count": null,
   "id": "d8f0daa4",
   "metadata": {
    "scrolled": false
   },
   "outputs": [],
   "source": [
    "eq_err_Siro_notop = []\n",
    "kk  = 3\n",
    "for ii in range(25):\n",
    "    eq_err_Siro_notop.append(\n",
    "        list(hs_parab_opti_step(\n",
    "            results['hs_parab_lin'][25]['x'][ii+1,:],\n",
    "            results['hs_parab_lin'][25]['x'][ii,:],\n",
    "            results['hs_parab_lin'][25]['u'][ii],\n",
    "            results['hs_parab_lin'][25]['u'][ii+1],\n",
    "            F_nump, 2/25, params,\n",
    "            results['hs_parab_lin'][25]['u_c'][ii]))\n",
    "    )\n",
    "eq_err_Siro_notop = np.array(eq_err_Siro_notop)\n",
    "plt.figure(figsize=[16,10])\n",
    "plt.plot(eq_err_Siro_notop[:,kk], label = 'eq_err_Siro_notop')\n",
    "plt.grid()"
   ]
  },
  {
   "cell_type": "code",
   "execution_count": null,
   "id": "8e85ac62",
   "metadata": {},
   "outputs": [],
   "source": [
    "def x_central(x, x_n, h, f, f_n):\n",
    "        return (x + x_n)/2 + h/8*(f-f_n)"
   ]
  },
  {
   "cell_type": "code",
   "execution_count": null,
   "id": "dd8df14a",
   "metadata": {},
   "outputs": [],
   "source": []
  },
  {
   "cell_type": "code",
   "execution_count": null,
   "id": "f207fec2",
   "metadata": {},
   "outputs": [],
   "source": []
  }
 ],
 "metadata": {
  "kernelspec": {
   "display_name": "Python 3 (ipykernel)",
   "language": "python",
   "name": "python3"
  },
  "language_info": {
   "codemirror_mode": {
    "name": "ipython",
    "version": 3
   },
   "file_extension": ".py",
   "mimetype": "text/x-python",
   "name": "python",
   "nbconvert_exporter": "python",
   "pygments_lexer": "ipython3",
   "version": "3.9.5"
  }
 },
 "nbformat": 4,
 "nbformat_minor": 5
}
